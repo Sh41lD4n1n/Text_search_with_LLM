{
 "cells": [
  {
   "cell_type": "markdown",
   "id": "147d63d6-cc6d-41ed-a329-585711d4261c",
   "metadata": {},
   "source": [
    "# Search embedding"
   ]
  },
  {
   "cell_type": "markdown",
   "id": "43b798e4-37aa-463c-a666-d9567b5c8cbf",
   "metadata": {},
   "source": [
    "Virtual environment\n",
    "https://www.geeksforgeeks.org/using-jupyter-notebook-in-virtual-environment/"
   ]
  },
  {
   "cell_type": "code",
   "execution_count": 1,
   "id": "82ad5dd4-5517-407f-93ce-820918ae8340",
   "metadata": {
    "scrolled": true
   },
   "outputs": [],
   "source": [
    "# !pip install -U sentence-transformers"
   ]
  },
  {
   "cell_type": "markdown",
   "id": "61597329-7942-491f-b5c8-eee51c55ffee",
   "metadata": {},
   "source": [
    "## Load dataset"
   ]
  },
  {
   "cell_type": "code",
   "execution_count": 2,
   "id": "9bf23b1b-ca71-4e1b-888e-c836454146c1",
   "metadata": {},
   "outputs": [],
   "source": [
    "SEARCH_DATA_PATH = ...\n",
    "PROCESSED_DATA_PATH = \"../datasets/processed_datasets\"\n",
    "DATA_INDEX_PATH = \"../datasets/\"\n",
    "EMBEDDING_DATA_PATH = \"../datasets/search_embeddings\"\n",
    "MODEL_PATH = \"../models/\"\n",
    "\n",
    "SEARCH_DATA_PATH = \"../datasets/processed_datasets\"\n",
    "SEARCH_DATA_INDEX_PATH = \"../datasets/raw_datasets\""
   ]
  },
  {
   "cell_type": "code",
   "execution_count": 3,
   "id": "89576d37-9371-4656-b18f-b29f0b3ac752",
   "metadata": {},
   "outputs": [],
   "source": [
    "# import pandas as pd\n",
    "# dataset_train = pd.read_json(PROCESSED_DATA_PATH+\"/dataset_spacesplit_train.json\")\n",
    "# dataset_test = pd.read_json(PROCESSED_DATA_PATH+\"/dataset_spacesplit_test.json\")\n",
    "# data_index = pd.read_csv(DATA_INDEX_PATH+'/data_index.csv')\n",
    "\n",
    "# dataset_train[\"text_str\"] = [\" \".join(v) for v in dataset_train[\"text\"]]\n",
    "# dataset_test[\"text_str\"] = [\" \".join(v) for v in dataset_test[\"text\"]]"
   ]
  },
  {
   "cell_type": "markdown",
   "id": "f877337e-b83f-48eb-9c91-bb62a7122fce",
   "metadata": {},
   "source": [
    "#### load search data"
   ]
  },
  {
   "cell_type": "code",
   "execution_count": 4,
   "id": "bc98c701-030f-4171-b22c-2aa82fa4cb07",
   "metadata": {},
   "outputs": [],
   "source": [
    "import pandas as pd\n",
    "data_vote = pd.read_json(SEARCH_DATA_PATH+\"/search_dataset_vote.json\")\n",
    "data_active = pd.read_json(SEARCH_DATA_PATH+\"/search_dataset_active.json\")\n",
    "data_hot = pd.read_json(SEARCH_DATA_PATH+\"/search_dataset_hot.json\")\n",
    "\n",
    "search_data_index_hot = pd.read_csv(SEARCH_DATA_INDEX_PATH+\"/metadata-for-search-info-hottest-rating.csv\")\n",
    "search_data_index_vote = pd.read_csv(SEARCH_DATA_INDEX_PATH+\"/metadata-for-search-info.csv\")\n",
    "search_data_index_active = pd.read_csv(SEARCH_DATA_INDEX_PATH+\"/metadata-for-search-info-active-rating.csv\")"
   ]
  },
  {
   "cell_type": "code",
   "execution_count": 5,
   "id": "6f6b2cd2-d7f1-4fbf-96e2-5d42452ccbc4",
   "metadata": {},
   "outputs": [
    {
     "data": {
      "text/plain": [
       "(0        0\n",
       " 1        1\n",
       " 2        2\n",
       " 3        3\n",
       " 4        4\n",
       "       ... \n",
       " 684    685\n",
       " 685    686\n",
       " 686    687\n",
       " 687    688\n",
       " 688    689\n",
       " Name: id, Length: 689, dtype: int64,\n",
       " 0       Top 10000 Popular Movies Dataset Top 10000 Po...\n",
       " 1       IMDB Top 1000 Movies Dataset \"Release Year, D...\n",
       " 2       Top 1000 IMDb Movies Dataset Discover the Gre...\n",
       " 3       Top Rated 10000 Movies Dataset (IMDB) In this...\n",
       " 4       Top 1000 Highest Grossing Movies Top 1000 Hig...\n",
       "                              ...                        \n",
       " 684     Scene Classification Contains ~25K images fro...\n",
       " 685     Plants Classification 30 Types of Plants Imag...\n",
       " 686     Flower Classification 14 Types of Flower Imag...\n",
       " 687     BIRDS 525  SPECIES- IMAGE CLASSIFICATION 525 ...\n",
       " 688     Brain Tumor Classification (MRI) Classify MRI...\n",
       " Name: text, Length: 689, dtype: object)"
      ]
     },
     "execution_count": 5,
     "metadata": {},
     "output_type": "execute_result"
    }
   ],
   "source": [
    "data_hot['id'], data_hot['text']"
   ]
  },
  {
   "cell_type": "code",
   "execution_count": 6,
   "id": "6396c90a-545d-4069-956c-91e47fa015d1",
   "metadata": {},
   "outputs": [],
   "source": [
    "queries = search_data_index_vote['query name'].unique()"
   ]
  },
  {
   "cell_type": "markdown",
   "id": "e0485093-939e-4c8e-a91e-e5eddbc22e1f",
   "metadata": {},
   "source": [
    "## Inference batching utils"
   ]
  },
  {
   "cell_type": "code",
   "execution_count": 7,
   "id": "8d3b30fd-d769-4f2a-866f-7cbba27b2896",
   "metadata": {},
   "outputs": [],
   "source": [
    "def iterate_batch(dataset,batch_size=128):\n",
    "    for i in range(0,len(dataset),batch_size):\n",
    "        yield dataset[i:i+batch_size]"
   ]
  },
  {
   "cell_type": "code",
   "execution_count": 8,
   "id": "8ea71676-1978-46ff-95ab-f362bb256af4",
   "metadata": {},
   "outputs": [
    {
     "data": {
      "text/plain": [
       "<generator object iterate_batch at 0x7f2b72a22880>"
      ]
     },
     "execution_count": 8,
     "metadata": {},
     "output_type": "execute_result"
    }
   ],
   "source": [
    "iterate_batch([1,2,3,4,5,6,7,8,9,10],3)"
   ]
  },
  {
   "cell_type": "markdown",
   "id": "4a96b153-e606-4ccf-b8d2-91ab7c0d456a",
   "metadata": {},
   "source": [
    "## Models"
   ]
  },
  {
   "cell_type": "markdown",
   "id": "07703895-4368-44bb-9b0a-1a829b30854e",
   "metadata": {},
   "source": [
    "### Standart models\n",
    "\n",
    "https://huggingface.co/Muennighoff/SGPT-2.7B-weightedmean-msmarco-specb-bitfit\n",
    "BERT\n",
    "https://huggingface.co/princeton-nlp/sup-simcse-bert-base-uncased"
   ]
  },
  {
   "cell_type": "code",
   "execution_count": 13,
   "id": "10339e26-9410-4dcf-a86a-592907a49643",
   "metadata": {},
   "outputs": [],
   "source": [
    "import gc"
   ]
  },
  {
   "cell_type": "markdown",
   "id": "4e673c26-3bc3-4b04-96ce-90fe1911e88b",
   "metadata": {
    "tags": []
   },
   "source": [
    "#### top 1 Salesforce/SFR-Embedding-2_R"
   ]
  },
  {
   "cell_type": "code",
   "execution_count": 14,
   "id": "2d98ff42-d9c1-4fc1-9e9b-5ab5e571a4ab",
   "metadata": {
    "scrolled": true
   },
   "outputs": [
    {
     "name": "stderr",
     "output_type": "stream",
     "text": [
      "/usr/local/lib/python3.10/dist-packages/tqdm/auto.py:21: TqdmWarning: IProgress not found. Please update jupyter and ipywidgets. See https://ipywidgets.readthedocs.io/en/stable/user_install.html\n",
      "  from .autonotebook import tqdm as notebook_tqdm\n",
      "/usr/local/lib/python3.10/dist-packages/transformers/utils/generic.py:311: UserWarning: torch.utils._pytree._register_pytree_node is deprecated. Please use torch.utils._pytree.register_pytree_node instead.\n",
      "  torch.utils._pytree._register_pytree_node(\n",
      "/usr/local/lib/python3.10/dist-packages/transformers/utils/generic.py:311: UserWarning: torch.utils._pytree._register_pytree_node is deprecated. Please use torch.utils._pytree.register_pytree_node instead.\n",
      "  torch.utils._pytree._register_pytree_node(\n",
      "Loading checkpoint shards: 100%|██████████| 3/3 [00:10<00:00,  3.37s/it]\n"
     ]
    }
   ],
   "source": [
    "import torch\n",
    "import torch.nn.functional as F\n",
    "from torch import Tensor\n",
    "from transformers import AutoTokenizer, AutoModel\n",
    "\n",
    "tokenizer_SFR = AutoTokenizer.from_pretrained('Salesforce/SFR-Embedding-2_R',cache_dir=MODEL_PATH)\n",
    "model_SFR = AutoModel.from_pretrained('Salesforce/SFR-Embedding-2_R',cache_dir=MODEL_PATH)\n",
    "\n",
    "def sfr_model_inference(text=None,dataset=None):\n",
    "    global tokenizer_SFR\n",
    "    global model_SFR\n",
    "    def last_token_pool(last_hidden_states: Tensor,\n",
    "                     attention_mask: Tensor) -> Tensor:\n",
    "        left_padding = (attention_mask[:, -1].sum() == attention_mask.shape[0])\n",
    "        if left_padding:\n",
    "            return last_hidden_states[:, -1]\n",
    "        else:\n",
    "            sequence_lengths = attention_mask.sum(dim=1) - 1\n",
    "            batch_size = last_hidden_states.shape[0]\n",
    "            return last_hidden_states[torch.arange(batch_size, device=last_hidden_states.device), sequence_lengths]\n",
    "    \n",
    "    def get_detailed_instruct(task_description: str, query: str) -> str:\n",
    "        return f'Instruct: {task_description}\\nQuery: {query}'\n",
    "\n",
    "    # Query process\n",
    "    # Each query must come with a one-sentence instruction that describes the task\n",
    "    # task = 'Given a web search query, retrieve relevant passages that answer the query'\n",
    "    # queries = [\n",
    "    #     get_detailed_instruct(task, '<Query1>'),\n",
    "    #     get_detailed_instruct(task, '<Query2>')\n",
    "    # ]\n",
    "\n",
    "    with torch.no_grad():\n",
    "        # load model and tokenizer\n",
    "        tokenizer = tokenizer_SFR\n",
    "        model = model_SFR\n",
    "        model = model.to(device)\n",
    "        embeddings = 0\n",
    "        model.eval()\n",
    "\n",
    "        if text is None:\n",
    "            text = list(dataset[\"text_str\"])\n",
    "        for batch in iterate_batch(text,10):\n",
    "            # get the embeddings\n",
    "            embedding=0\n",
    "            try:\n",
    "                model = model.to(device)\n",
    "                max_length = 4096\n",
    "                batch_dict = tokenizer(batch, max_length=max_length, padding=True, truncation=True, return_tensors=\"pt\").to(device)\n",
    "                outputs = model(**batch_dict)\n",
    "                embedding = last_token_pool(outputs.last_hidden_state, batch_dict['attention_mask'])\n",
    "            \n",
    "                # normalize embeddings\n",
    "                embedding = F.normalize(embedding, p=2, dim=1)\n",
    "                embedding = embedding.to('cpu')\n",
    "    \n",
    "                if type(embeddings) is int:\n",
    "                    embeddings = embedding\n",
    "                else:\n",
    "                    embeddings = torch.cat((embeddings,embedding),dim=0)\n",
    "            except torch.cuda.OutOfMemoryError:\n",
    "                del model\n",
    "                del batch_dict\n",
    "                del embedding\n",
    "                torch.cuda.empty_cache()\n",
    "                raise torch.cuda.OutOfMemoryError\n",
    "            del embedding\n",
    "            del batch_dict\n",
    "            torch.cuda.empty_cache()\n",
    "        del model\n",
    "        del tokenizer\n",
    "        torch.cuda.empty_cache()\n",
    "        return embeddings"
   ]
  },
  {
   "cell_type": "code",
   "execution_count": 283,
   "id": "dd74d2cc-196f-4652-a4ea-f781777e22cb",
   "metadata": {
    "scrolled": true
   },
   "outputs": [
    {
     "ename": "NameError",
     "evalue": "name 'dataset_train' is not defined",
     "output_type": "error",
     "traceback": [
      "\u001b[0;31m---------------------------------------------------------------------------\u001b[0m",
      "\u001b[0;31mNameError\u001b[0m                                 Traceback (most recent call last)",
      "Cell \u001b[0;32mIn[283], line 2\u001b[0m\n\u001b[1;32m      1\u001b[0m model_name \u001b[38;5;241m=\u001b[39m \u001b[38;5;124m\"\u001b[39m\u001b[38;5;124mSFR\u001b[39m\u001b[38;5;124m\"\u001b[39m\n\u001b[0;32m----> 2\u001b[0m dataset \u001b[38;5;241m=\u001b[39m \u001b[43mdataset_train\u001b[49m\n\u001b[1;32m      4\u001b[0m embeddings \u001b[38;5;241m=\u001b[39m sfr_model_inference(dataset)\n\u001b[1;32m      5\u001b[0m evaluate(embeddings,model_name)\n",
      "\u001b[0;31mNameError\u001b[0m: name 'dataset_train' is not defined"
     ]
    }
   ],
   "source": [
    "model_name = \"SFR\"\n",
    "dataset = dataset_train\n",
    "\n",
    "embeddings = sfr_model_inference(dataset)\n",
    "evaluate(embeddings,model_name)\n",
    "store_vectors(embeddings,dataset,model_name+\"_inference\")\n",
    "\n",
    "del embeddings\n",
    "torch.cuda.empty_cache()\n",
    "gc.collect()"
   ]
  },
  {
   "cell_type": "code",
   "execution_count": null,
   "id": "70903573-002c-4c89-ac1c-1a91d135ab63",
   "metadata": {},
   "outputs": [],
   "source": [
    "pair_vise_score = (embeddings@embeddings.T)"
   ]
  },
  {
   "cell_type": "code",
   "execution_count": null,
   "id": "2d7f786d-44d2-432f-9215-33351d9da285",
   "metadata": {},
   "outputs": [],
   "source": [
    "pair_vise_score"
   ]
  },
  {
   "cell_type": "markdown",
   "id": "d25c79ee-82aa-4339-b048-c524e99c15d1",
   "metadata": {},
   "source": [
    "BERT"
   ]
  },
  {
   "cell_type": "code",
   "execution_count": null,
   "id": "48bfa58d-07a2-4a31-ae95-9222d1e76558",
   "metadata": {},
   "outputs": [],
   "source": [
    "https://huggingface.co/princeton-nlp/sup-simcse-bert-base-uncased"
   ]
  },
  {
   "cell_type": "markdown",
   "id": "4e49e749-6b6c-432c-9fc9-72f136a1675e",
   "metadata": {},
   "source": [
    "LLAMA\n",
    "https://huggingface.co/McGill-NLP/LLM2Vec-Meta-Llama-3-8B-Instruct-mntp-supervised"
   ]
  },
  {
   "cell_type": "markdown",
   "id": "b587d51d-3289-4c12-b364-33c67bf1a39f",
   "metadata": {},
   "source": [
    "### Load vector database"
   ]
  },
  {
   "cell_type": "code",
   "execution_count": 20,
   "id": "7a0d4f35-48f8-4e38-9216-e331ae466673",
   "metadata": {},
   "outputs": [],
   "source": [
    "all_results_hot = []\n",
    "all_results_vote = []\n",
    "all_results_active = []"
   ]
  },
  {
   "cell_type": "code",
   "execution_count": 21,
   "id": "18c09080-4f88-499f-9a4b-30041eab66a2",
   "metadata": {},
   "outputs": [],
   "source": [
    "metrics = {}"
   ]
  },
  {
   "cell_type": "markdown",
   "id": "ff40a5d9-310f-4bdd-94a0-c2453a073ef6",
   "metadata": {},
   "source": [
    "#### with no model"
   ]
  },
  {
   "cell_type": "code",
   "execution_count": 14,
   "id": "c2be2b44-39cd-461e-8acd-577b2f084185",
   "metadata": {},
   "outputs": [],
   "source": [
    "load_time = 0\n",
    "search_time = 0"
   ]
  },
  {
   "cell_type": "code",
   "execution_count": 19,
   "id": "f885372a-f07d-45d6-8356-17d60c43327d",
   "metadata": {
    "scrolled": true
   },
   "outputs": [],
   "source": [
    "import chromadb\n",
    "import time\n",
    "\n",
    "metrics['default'] = {\"active\":{},\"vote\":{},\"hot\":{}}\n",
    "\n",
    "client = chromadb.Client()\n",
    "\n",
    "collection_vote = client.create_collection(\"seach_db_vote\",get_or_create=False)\n",
    "collection_active = client.create_collection(\"seach_db_active\",get_or_create=False)\n",
    "collection_hot = client.create_collection(\"seach_db_hot\",get_or_create=False)\n",
    "# collection = client.create_collection(\"test_seach_fb\",embedding_function,get_or_create=True)\n",
    "\n",
    "# load\n",
    "load_time = time.time()\n",
    "collection_vote.add(\n",
    "    documents=list(data_vote['text']),\n",
    "    ids=[str(i) for i in data_vote['id']]\n",
    ")\n",
    "load_time = time.time() - load_time\n",
    "metrics['default']['vote']['load_time'] = load_time\n",
    "\n",
    "load_time = time.time()\n",
    "collection_active.add(\n",
    "    documents=list(data_active['text']),\n",
    "    ids=[str(i) for i in data_active['id']]\n",
    ")\n",
    "load_time = time.time() - load_time\n",
    "metrics['default']['active']['load_time'] = load_time\n",
    "\n",
    "load_time = time.time()\n",
    "collection_hot.add(\n",
    "    documents=list(data_hot['text']),\n",
    "    ids=[str(i) for i in data_hot['id']]\n",
    ")\n",
    "load_time = time.time() - load_time\n",
    "metrics['default']['hot']['load_time'] = load_time"
   ]
  },
  {
   "cell_type": "code",
   "execution_count": 20,
   "id": "40833cce-8c36-4865-bc99-266a987fe843",
   "metadata": {},
   "outputs": [],
   "source": [
    "search_time = time.time()\n",
    "queries = search_data_index_vote['query name'].unique()\n",
    "results_vote = collection_vote.query(\n",
    "    query_texts=queries, # Chroma will embed this for you\n",
    "    n_results=40 # how many results to return\n",
    ")\n",
    "search_time = time.time() - search_time\n",
    "metrics['default']['vote']['search_time'] = search_time\n",
    "\n",
    "search_time = time.time()\n",
    "queries = search_data_index_hot['query name'].unique()\n",
    "results_hot = collection_hot.query(\n",
    "    query_texts=queries, # Chroma will embed this for you\n",
    "    n_results=40 # how many results to return\n",
    ")\n",
    "search_time = time.time() - search_time\n",
    "metrics['default']['hot']['search_time'] = search_time\n",
    "\n",
    "search_time = time.time()\n",
    "queries = search_data_index_active['query name'].unique()\n",
    "results_active = collection_active.query(\n",
    "    query_texts=queries, # Chroma will embed this for you\n",
    "    n_results=40 # how many results to return\n",
    ")\n",
    "search_time = time.time() - search_time\n",
    "metrics['default']['active']['search_time'] = search_time\n",
    "\n",
    "client.delete_collection(\"seach_db_vote\")\n",
    "client.delete_collection(\"seach_db_active\")\n",
    "client.delete_collection(\"seach_db_hot\")"
   ]
  },
  {
   "cell_type": "code",
   "execution_count": 21,
   "id": "abac7f77-d336-4513-b33f-9c562b99cda8",
   "metadata": {},
   "outputs": [],
   "source": [
    "all_results_active.append(results_active)\n",
    "all_results_hot.append(results_hot)\n",
    "all_results_vote.append(results_vote)"
   ]
  },
  {
   "cell_type": "code",
   "execution_count": 22,
   "id": "5f498683-4e77-46c8-a6da-3add6fae3c47",
   "metadata": {},
   "outputs": [],
   "source": [
    "metrics['default']['vote']['metrics'] = evaluate_algs(results_vote,search_data_index_vote)\n",
    "metrics['default']['active']['metrics'] = evaluate_algs(results_active,search_data_index_active)\n",
    "metrics['default']['hot']['metrics'] = evaluate_algs(results_hot,search_data_index_hot)"
   ]
  },
  {
   "cell_type": "code",
   "execution_count": 17,
   "id": "9099342c-3238-460c-a65c-79326e055d28",
   "metadata": {},
   "outputs": [],
   "source": [
    "import torch\n",
    "from typing import Optional, cast\n",
    "\n",
    "import numpy as np\n",
    "import numpy.typing as npt\n",
    "from chromadb.api.types import EmbeddingFunction, Documents, Embeddings\n",
    "\n",
    "\n",
    "class TransformerEmbeddingFunction(EmbeddingFunction[Documents]):\n",
    "    def __init__(\n",
    "            self, model_name\n",
    "    ):\n",
    "        self.model_name=model_name\n",
    "    def __call__(self, input: Documents) -> Embeddings:\n",
    "\n",
    "        return run_gte_model(text=input,model_path=model_name).tolist()\n",
    "\n",
    "    def preprocess_query(self,text_list):\n",
    "        return text_list\n",
    "\n",
    "class TransformerEmbeddingFunction_SFR(EmbeddingFunction[Documents]):\n",
    "    def __init__(\n",
    "            self\n",
    "    ):\n",
    "        return\n",
    "    def __call__(self, input: Documents) -> Embeddings:\n",
    "\n",
    "        return sfr_model_inference(text=input).tolist()\n",
    "    \n",
    "    def preprocess_query(self,text_list):\n",
    "        text_list = [ f\"Instruct: Given a web search query,\\\n",
    "                      retrieve relevant passages that answer the query\\nQuery: {text}\"\n",
    "            for text in text_list]\n",
    "        return text_list"
   ]
  },
  {
   "cell_type": "code",
   "execution_count": 18,
   "id": "57e71953-08a6-4254-9b5f-7ccbdc5eb028",
   "metadata": {},
   "outputs": [],
   "source": [
    "models_list = [\"Mihaiii/gte-micro\",\n",
    "               \"thenlper/gte-base\",\n",
    "                \"thenlper/gte-large\",\"SFR\"]\n",
    "# model_name=\"thenlper/gte-large\"\n",
    "# model_embed = TransformerEmbeddingFunction(model_name)\n",
    "model_name=\"SFR\"\n",
    "model_embed = TransformerEmbeddingFunction_SFR()"
   ]
  },
  {
   "cell_type": "code",
   "execution_count": 73,
   "id": "89e235ef-8854-4dc3-ab91-9328e54dbe48",
   "metadata": {},
   "outputs": [
    {
     "data": {
      "text/plain": [
       "'thenlper/gte-large'"
      ]
     },
     "execution_count": 73,
     "metadata": {},
     "output_type": "execute_result"
    }
   ],
   "source": [
    "model_name"
   ]
  },
  {
   "cell_type": "code",
   "execution_count": 74,
   "id": "9d2b3b1d-915d-4c1c-96d4-7e3ffd4872dd",
   "metadata": {},
   "outputs": [],
   "source": [
    "load_time = 0\n",
    "search_time = 0"
   ]
  },
  {
   "cell_type": "code",
   "execution_count": 75,
   "id": "2cf6a649-e242-4c17-a17a-e1708a6a5ff9",
   "metadata": {},
   "outputs": [],
   "source": [
    "# client.delete_collection(\"seach_db_vote\")\n",
    "# client.delete_collection(\"seach_db_active\")\n",
    "# client.delete_collection(\"seach_db_hot\")"
   ]
  },
  {
   "cell_type": "code",
   "execution_count": 15,
   "id": "cf114de5-3996-40b3-bbd7-175462f5ffbb",
   "metadata": {},
   "outputs": [],
   "source": [
    "import chromadb\n",
    "client = chromadb.Client()"
   ]
  },
  {
   "cell_type": "code",
   "execution_count": 22,
   "id": "f044fc91-e511-4e43-a9a2-894f8cdb31d4",
   "metadata": {
    "scrolled": true
   },
   "outputs": [
    {
     "ename": "OutOfMemoryError",
     "evalue": "",
     "output_type": "error",
     "traceback": [
      "\u001b[0;31m---------------------------------------------------------------------------\u001b[0m",
      "\u001b[0;31mOutOfMemoryError\u001b[0m                          Traceback (most recent call last)",
      "Cell \u001b[0;32mIn[14], line 50\u001b[0m, in \u001b[0;36msfr_model_inference\u001b[0;34m(text, dataset)\u001b[0m\n\u001b[1;32m     49\u001b[0m batch_dict \u001b[38;5;241m=\u001b[39m tokenizer(batch, max_length\u001b[38;5;241m=\u001b[39mmax_length, padding\u001b[38;5;241m=\u001b[39m\u001b[38;5;28;01mTrue\u001b[39;00m, truncation\u001b[38;5;241m=\u001b[39m\u001b[38;5;28;01mTrue\u001b[39;00m, return_tensors\u001b[38;5;241m=\u001b[39m\u001b[38;5;124m\"\u001b[39m\u001b[38;5;124mpt\u001b[39m\u001b[38;5;124m\"\u001b[39m)\u001b[38;5;241m.\u001b[39mto(device)\n\u001b[0;32m---> 50\u001b[0m outputs \u001b[38;5;241m=\u001b[39m \u001b[43mmodel\u001b[49m\u001b[43m(\u001b[49m\u001b[38;5;241;43m*\u001b[39;49m\u001b[38;5;241;43m*\u001b[39;49m\u001b[43mbatch_dict\u001b[49m\u001b[43m)\u001b[49m\n\u001b[1;32m     51\u001b[0m embedding \u001b[38;5;241m=\u001b[39m last_token_pool(outputs\u001b[38;5;241m.\u001b[39mlast_hidden_state, batch_dict[\u001b[38;5;124m'\u001b[39m\u001b[38;5;124mattention_mask\u001b[39m\u001b[38;5;124m'\u001b[39m])\n",
      "File \u001b[0;32m/usr/local/lib/python3.10/dist-packages/torch/nn/modules/module.py:1532\u001b[0m, in \u001b[0;36mModule._wrapped_call_impl\u001b[0;34m(self, *args, **kwargs)\u001b[0m\n\u001b[1;32m   1531\u001b[0m \u001b[38;5;28;01melse\u001b[39;00m:\n\u001b[0;32m-> 1532\u001b[0m     \u001b[38;5;28;01mreturn\u001b[39;00m \u001b[38;5;28;43mself\u001b[39;49m\u001b[38;5;241;43m.\u001b[39;49m\u001b[43m_call_impl\u001b[49m\u001b[43m(\u001b[49m\u001b[38;5;241;43m*\u001b[39;49m\u001b[43margs\u001b[49m\u001b[43m,\u001b[49m\u001b[43m \u001b[49m\u001b[38;5;241;43m*\u001b[39;49m\u001b[38;5;241;43m*\u001b[39;49m\u001b[43mkwargs\u001b[49m\u001b[43m)\u001b[49m\n",
      "File \u001b[0;32m/usr/local/lib/python3.10/dist-packages/torch/nn/modules/module.py:1541\u001b[0m, in \u001b[0;36mModule._call_impl\u001b[0;34m(self, *args, **kwargs)\u001b[0m\n\u001b[1;32m   1538\u001b[0m \u001b[38;5;28;01mif\u001b[39;00m \u001b[38;5;129;01mnot\u001b[39;00m (\u001b[38;5;28mself\u001b[39m\u001b[38;5;241m.\u001b[39m_backward_hooks \u001b[38;5;129;01mor\u001b[39;00m \u001b[38;5;28mself\u001b[39m\u001b[38;5;241m.\u001b[39m_backward_pre_hooks \u001b[38;5;129;01mor\u001b[39;00m \u001b[38;5;28mself\u001b[39m\u001b[38;5;241m.\u001b[39m_forward_hooks \u001b[38;5;129;01mor\u001b[39;00m \u001b[38;5;28mself\u001b[39m\u001b[38;5;241m.\u001b[39m_forward_pre_hooks\n\u001b[1;32m   1539\u001b[0m         \u001b[38;5;129;01mor\u001b[39;00m _global_backward_pre_hooks \u001b[38;5;129;01mor\u001b[39;00m _global_backward_hooks\n\u001b[1;32m   1540\u001b[0m         \u001b[38;5;129;01mor\u001b[39;00m _global_forward_hooks \u001b[38;5;129;01mor\u001b[39;00m _global_forward_pre_hooks):\n\u001b[0;32m-> 1541\u001b[0m     \u001b[38;5;28;01mreturn\u001b[39;00m \u001b[43mforward_call\u001b[49m\u001b[43m(\u001b[49m\u001b[38;5;241;43m*\u001b[39;49m\u001b[43margs\u001b[49m\u001b[43m,\u001b[49m\u001b[43m \u001b[49m\u001b[38;5;241;43m*\u001b[39;49m\u001b[38;5;241;43m*\u001b[39;49m\u001b[43mkwargs\u001b[49m\u001b[43m)\u001b[49m\n\u001b[1;32m   1543\u001b[0m \u001b[38;5;28;01mtry\u001b[39;00m:\n",
      "File \u001b[0;32m/usr/local/lib/python3.10/dist-packages/transformers/models/mistral/modeling_mistral.py:932\u001b[0m, in \u001b[0;36mMistralModel.forward\u001b[0;34m(self, input_ids, attention_mask, position_ids, past_key_values, inputs_embeds, use_cache, output_attentions, output_hidden_states, return_dict)\u001b[0m\n\u001b[1;32m    931\u001b[0m \u001b[38;5;28;01melse\u001b[39;00m:\n\u001b[0;32m--> 932\u001b[0m     layer_outputs \u001b[38;5;241m=\u001b[39m \u001b[43mdecoder_layer\u001b[49m\u001b[43m(\u001b[49m\n\u001b[1;32m    933\u001b[0m \u001b[43m        \u001b[49m\u001b[43mhidden_states\u001b[49m\u001b[43m,\u001b[49m\n\u001b[1;32m    934\u001b[0m \u001b[43m        \u001b[49m\u001b[43mattention_mask\u001b[49m\u001b[38;5;241;43m=\u001b[39;49m\u001b[43mattention_mask\u001b[49m\u001b[43m,\u001b[49m\n\u001b[1;32m    935\u001b[0m \u001b[43m        \u001b[49m\u001b[43mposition_ids\u001b[49m\u001b[38;5;241;43m=\u001b[39;49m\u001b[43mposition_ids\u001b[49m\u001b[43m,\u001b[49m\n\u001b[1;32m    936\u001b[0m \u001b[43m        \u001b[49m\u001b[43mpast_key_value\u001b[49m\u001b[38;5;241;43m=\u001b[39;49m\u001b[43mpast_key_value\u001b[49m\u001b[43m,\u001b[49m\n\u001b[1;32m    937\u001b[0m \u001b[43m        \u001b[49m\u001b[43moutput_attentions\u001b[49m\u001b[38;5;241;43m=\u001b[39;49m\u001b[43moutput_attentions\u001b[49m\u001b[43m,\u001b[49m\n\u001b[1;32m    938\u001b[0m \u001b[43m        \u001b[49m\u001b[43muse_cache\u001b[49m\u001b[38;5;241;43m=\u001b[39;49m\u001b[43muse_cache\u001b[49m\u001b[43m,\u001b[49m\n\u001b[1;32m    939\u001b[0m \u001b[43m        \u001b[49m\u001b[43mpadding_mask\u001b[49m\u001b[38;5;241;43m=\u001b[39;49m\u001b[43mpadding_mask\u001b[49m\u001b[43m,\u001b[49m\n\u001b[1;32m    940\u001b[0m \u001b[43m    \u001b[49m\u001b[43m)\u001b[49m\n\u001b[1;32m    942\u001b[0m hidden_states \u001b[38;5;241m=\u001b[39m layer_outputs[\u001b[38;5;241m0\u001b[39m]\n",
      "File \u001b[0;32m/usr/local/lib/python3.10/dist-packages/torch/nn/modules/module.py:1532\u001b[0m, in \u001b[0;36mModule._wrapped_call_impl\u001b[0;34m(self, *args, **kwargs)\u001b[0m\n\u001b[1;32m   1531\u001b[0m \u001b[38;5;28;01melse\u001b[39;00m:\n\u001b[0;32m-> 1532\u001b[0m     \u001b[38;5;28;01mreturn\u001b[39;00m \u001b[38;5;28;43mself\u001b[39;49m\u001b[38;5;241;43m.\u001b[39;49m\u001b[43m_call_impl\u001b[49m\u001b[43m(\u001b[49m\u001b[38;5;241;43m*\u001b[39;49m\u001b[43margs\u001b[49m\u001b[43m,\u001b[49m\u001b[43m \u001b[49m\u001b[38;5;241;43m*\u001b[39;49m\u001b[38;5;241;43m*\u001b[39;49m\u001b[43mkwargs\u001b[49m\u001b[43m)\u001b[49m\n",
      "File \u001b[0;32m/usr/local/lib/python3.10/dist-packages/torch/nn/modules/module.py:1541\u001b[0m, in \u001b[0;36mModule._call_impl\u001b[0;34m(self, *args, **kwargs)\u001b[0m\n\u001b[1;32m   1538\u001b[0m \u001b[38;5;28;01mif\u001b[39;00m \u001b[38;5;129;01mnot\u001b[39;00m (\u001b[38;5;28mself\u001b[39m\u001b[38;5;241m.\u001b[39m_backward_hooks \u001b[38;5;129;01mor\u001b[39;00m \u001b[38;5;28mself\u001b[39m\u001b[38;5;241m.\u001b[39m_backward_pre_hooks \u001b[38;5;129;01mor\u001b[39;00m \u001b[38;5;28mself\u001b[39m\u001b[38;5;241m.\u001b[39m_forward_hooks \u001b[38;5;129;01mor\u001b[39;00m \u001b[38;5;28mself\u001b[39m\u001b[38;5;241m.\u001b[39m_forward_pre_hooks\n\u001b[1;32m   1539\u001b[0m         \u001b[38;5;129;01mor\u001b[39;00m _global_backward_pre_hooks \u001b[38;5;129;01mor\u001b[39;00m _global_backward_hooks\n\u001b[1;32m   1540\u001b[0m         \u001b[38;5;129;01mor\u001b[39;00m _global_forward_hooks \u001b[38;5;129;01mor\u001b[39;00m _global_forward_pre_hooks):\n\u001b[0;32m-> 1541\u001b[0m     \u001b[38;5;28;01mreturn\u001b[39;00m \u001b[43mforward_call\u001b[49m\u001b[43m(\u001b[49m\u001b[38;5;241;43m*\u001b[39;49m\u001b[43margs\u001b[49m\u001b[43m,\u001b[49m\u001b[43m \u001b[49m\u001b[38;5;241;43m*\u001b[39;49m\u001b[38;5;241;43m*\u001b[39;49m\u001b[43mkwargs\u001b[49m\u001b[43m)\u001b[49m\n\u001b[1;32m   1543\u001b[0m \u001b[38;5;28;01mtry\u001b[39;00m:\n",
      "File \u001b[0;32m/usr/local/lib/python3.10/dist-packages/transformers/models/mistral/modeling_mistral.py:621\u001b[0m, in \u001b[0;36mMistralDecoderLayer.forward\u001b[0;34m(self, hidden_states, attention_mask, position_ids, past_key_value, output_attentions, use_cache, padding_mask)\u001b[0m\n\u001b[1;32m    620\u001b[0m \u001b[38;5;66;03m# Self Attention\u001b[39;00m\n\u001b[0;32m--> 621\u001b[0m hidden_states, self_attn_weights, present_key_value \u001b[38;5;241m=\u001b[39m \u001b[38;5;28;43mself\u001b[39;49m\u001b[38;5;241;43m.\u001b[39;49m\u001b[43mself_attn\u001b[49m\u001b[43m(\u001b[49m\n\u001b[1;32m    622\u001b[0m \u001b[43m    \u001b[49m\u001b[43mhidden_states\u001b[49m\u001b[38;5;241;43m=\u001b[39;49m\u001b[43mhidden_states\u001b[49m\u001b[43m,\u001b[49m\n\u001b[1;32m    623\u001b[0m \u001b[43m    \u001b[49m\u001b[43mattention_mask\u001b[49m\u001b[38;5;241;43m=\u001b[39;49m\u001b[43mattention_mask\u001b[49m\u001b[43m,\u001b[49m\n\u001b[1;32m    624\u001b[0m \u001b[43m    \u001b[49m\u001b[43mposition_ids\u001b[49m\u001b[38;5;241;43m=\u001b[39;49m\u001b[43mposition_ids\u001b[49m\u001b[43m,\u001b[49m\n\u001b[1;32m    625\u001b[0m \u001b[43m    \u001b[49m\u001b[43mpast_key_value\u001b[49m\u001b[38;5;241;43m=\u001b[39;49m\u001b[43mpast_key_value\u001b[49m\u001b[43m,\u001b[49m\n\u001b[1;32m    626\u001b[0m \u001b[43m    \u001b[49m\u001b[43moutput_attentions\u001b[49m\u001b[38;5;241;43m=\u001b[39;49m\u001b[43moutput_attentions\u001b[49m\u001b[43m,\u001b[49m\n\u001b[1;32m    627\u001b[0m \u001b[43m    \u001b[49m\u001b[43muse_cache\u001b[49m\u001b[38;5;241;43m=\u001b[39;49m\u001b[43muse_cache\u001b[49m\u001b[43m,\u001b[49m\n\u001b[1;32m    628\u001b[0m \u001b[43m    \u001b[49m\u001b[43mpadding_mask\u001b[49m\u001b[38;5;241;43m=\u001b[39;49m\u001b[43mpadding_mask\u001b[49m\u001b[43m,\u001b[49m\n\u001b[1;32m    629\u001b[0m \u001b[43m\u001b[49m\u001b[43m)\u001b[49m\n\u001b[1;32m    630\u001b[0m hidden_states \u001b[38;5;241m=\u001b[39m residual \u001b[38;5;241m+\u001b[39m hidden_states\n",
      "File \u001b[0;32m/usr/local/lib/python3.10/dist-packages/torch/nn/modules/module.py:1532\u001b[0m, in \u001b[0;36mModule._wrapped_call_impl\u001b[0;34m(self, *args, **kwargs)\u001b[0m\n\u001b[1;32m   1531\u001b[0m \u001b[38;5;28;01melse\u001b[39;00m:\n\u001b[0;32m-> 1532\u001b[0m     \u001b[38;5;28;01mreturn\u001b[39;00m \u001b[38;5;28;43mself\u001b[39;49m\u001b[38;5;241;43m.\u001b[39;49m\u001b[43m_call_impl\u001b[49m\u001b[43m(\u001b[49m\u001b[38;5;241;43m*\u001b[39;49m\u001b[43margs\u001b[49m\u001b[43m,\u001b[49m\u001b[43m \u001b[49m\u001b[38;5;241;43m*\u001b[39;49m\u001b[38;5;241;43m*\u001b[39;49m\u001b[43mkwargs\u001b[49m\u001b[43m)\u001b[49m\n",
      "File \u001b[0;32m/usr/local/lib/python3.10/dist-packages/torch/nn/modules/module.py:1541\u001b[0m, in \u001b[0;36mModule._call_impl\u001b[0;34m(self, *args, **kwargs)\u001b[0m\n\u001b[1;32m   1538\u001b[0m \u001b[38;5;28;01mif\u001b[39;00m \u001b[38;5;129;01mnot\u001b[39;00m (\u001b[38;5;28mself\u001b[39m\u001b[38;5;241m.\u001b[39m_backward_hooks \u001b[38;5;129;01mor\u001b[39;00m \u001b[38;5;28mself\u001b[39m\u001b[38;5;241m.\u001b[39m_backward_pre_hooks \u001b[38;5;129;01mor\u001b[39;00m \u001b[38;5;28mself\u001b[39m\u001b[38;5;241m.\u001b[39m_forward_hooks \u001b[38;5;129;01mor\u001b[39;00m \u001b[38;5;28mself\u001b[39m\u001b[38;5;241m.\u001b[39m_forward_pre_hooks\n\u001b[1;32m   1539\u001b[0m         \u001b[38;5;129;01mor\u001b[39;00m _global_backward_pre_hooks \u001b[38;5;129;01mor\u001b[39;00m _global_backward_hooks\n\u001b[1;32m   1540\u001b[0m         \u001b[38;5;129;01mor\u001b[39;00m _global_forward_hooks \u001b[38;5;129;01mor\u001b[39;00m _global_forward_pre_hooks):\n\u001b[0;32m-> 1541\u001b[0m     \u001b[38;5;28;01mreturn\u001b[39;00m \u001b[43mforward_call\u001b[49m\u001b[43m(\u001b[49m\u001b[38;5;241;43m*\u001b[39;49m\u001b[43margs\u001b[49m\u001b[43m,\u001b[49m\u001b[43m \u001b[49m\u001b[38;5;241;43m*\u001b[39;49m\u001b[38;5;241;43m*\u001b[39;49m\u001b[43mkwargs\u001b[49m\u001b[43m)\u001b[49m\n\u001b[1;32m   1543\u001b[0m \u001b[38;5;28;01mtry\u001b[39;00m:\n",
      "File \u001b[0;32m/usr/local/lib/python3.10/dist-packages/transformers/models/mistral/modeling_mistral.py:286\u001b[0m, in \u001b[0;36mMistralAttention.forward\u001b[0;34m(self, hidden_states, attention_mask, position_ids, past_key_value, output_attentions, use_cache, padding_mask)\u001b[0m\n\u001b[1;32m    284\u001b[0m value_states \u001b[38;5;241m=\u001b[39m repeat_kv(value_states, \u001b[38;5;28mself\u001b[39m\u001b[38;5;241m.\u001b[39mnum_key_value_groups)\n\u001b[0;32m--> 286\u001b[0m attn_weights \u001b[38;5;241m=\u001b[39m \u001b[43mtorch\u001b[49m\u001b[38;5;241;43m.\u001b[39;49m\u001b[43mmatmul\u001b[49m\u001b[43m(\u001b[49m\u001b[43mquery_states\u001b[49m\u001b[43m,\u001b[49m\u001b[43m \u001b[49m\u001b[43mkey_states\u001b[49m\u001b[38;5;241;43m.\u001b[39;49m\u001b[43mtranspose\u001b[49m\u001b[43m(\u001b[49m\u001b[38;5;241;43m2\u001b[39;49m\u001b[43m,\u001b[49m\u001b[43m \u001b[49m\u001b[38;5;241;43m3\u001b[39;49m\u001b[43m)\u001b[49m\u001b[43m)\u001b[49m \u001b[38;5;241m/\u001b[39m math\u001b[38;5;241m.\u001b[39msqrt(\u001b[38;5;28mself\u001b[39m\u001b[38;5;241m.\u001b[39mhead_dim)\n\u001b[1;32m    288\u001b[0m \u001b[38;5;28;01mif\u001b[39;00m attn_weights\u001b[38;5;241m.\u001b[39msize() \u001b[38;5;241m!=\u001b[39m (bsz, \u001b[38;5;28mself\u001b[39m\u001b[38;5;241m.\u001b[39mnum_heads, q_len, kv_seq_len):\n",
      "\u001b[0;31mOutOfMemoryError\u001b[0m: CUDA out of memory. Tried to allocate 20.00 GiB. GPU ",
      "\nDuring handling of the above exception, another exception occurred:\n",
      "\u001b[0;31mOutOfMemoryError\u001b[0m                          Traceback (most recent call last)",
      "Cell \u001b[0;32mIn[22], line 15\u001b[0m\n\u001b[1;32m     11\u001b[0m \u001b[38;5;66;03m# collection = client.create_collection(\"test_seach_fb\",embedding_function,get_or_create=True)\u001b[39;00m\n\u001b[1;32m     12\u001b[0m \n\u001b[1;32m     13\u001b[0m \u001b[38;5;66;03m# load\u001b[39;00m\n\u001b[1;32m     14\u001b[0m load_time \u001b[38;5;241m=\u001b[39m time\u001b[38;5;241m.\u001b[39mtime()\n\u001b[0;32m---> 15\u001b[0m \u001b[43mcollection_vote\u001b[49m\u001b[38;5;241;43m.\u001b[39;49m\u001b[43madd\u001b[49m\u001b[43m(\u001b[49m\n\u001b[1;32m     16\u001b[0m \u001b[43m    \u001b[49m\u001b[43mdocuments\u001b[49m\u001b[38;5;241;43m=\u001b[39;49m\u001b[38;5;28;43mlist\u001b[39;49m\u001b[43m(\u001b[49m\u001b[43mdata_vote\u001b[49m\u001b[43m[\u001b[49m\u001b[38;5;124;43m'\u001b[39;49m\u001b[38;5;124;43mtext\u001b[39;49m\u001b[38;5;124;43m'\u001b[39;49m\u001b[43m]\u001b[49m\u001b[43m)\u001b[49m\u001b[43m,\u001b[49m\n\u001b[1;32m     17\u001b[0m \u001b[43m    \u001b[49m\u001b[43mids\u001b[49m\u001b[38;5;241;43m=\u001b[39;49m\u001b[43m[\u001b[49m\u001b[38;5;28;43mstr\u001b[39;49m\u001b[43m(\u001b[49m\u001b[43mi\u001b[49m\u001b[43m)\u001b[49m\u001b[43m \u001b[49m\u001b[38;5;28;43;01mfor\u001b[39;49;00m\u001b[43m \u001b[49m\u001b[43mi\u001b[49m\u001b[43m \u001b[49m\u001b[38;5;129;43;01min\u001b[39;49;00m\u001b[43m \u001b[49m\u001b[43mdata_vote\u001b[49m\u001b[43m[\u001b[49m\u001b[38;5;124;43m'\u001b[39;49m\u001b[38;5;124;43mid\u001b[39;49m\u001b[38;5;124;43m'\u001b[39;49m\u001b[43m]\u001b[49m\u001b[43m]\u001b[49m\n\u001b[1;32m     18\u001b[0m \u001b[43m)\u001b[49m\n\u001b[1;32m     19\u001b[0m load_time \u001b[38;5;241m=\u001b[39m time\u001b[38;5;241m.\u001b[39mtime() \u001b[38;5;241m-\u001b[39m load_time\n\u001b[1;32m     20\u001b[0m metrics[model_name][\u001b[38;5;124m'\u001b[39m\u001b[38;5;124mvote\u001b[39m\u001b[38;5;124m'\u001b[39m][\u001b[38;5;124m'\u001b[39m\u001b[38;5;124mload_time\u001b[39m\u001b[38;5;124m'\u001b[39m] \u001b[38;5;241m=\u001b[39m load_time\n",
      "File \u001b[0;32m/usr/local/lib/python3.10/dist-packages/chromadb/api/models/Collection.py:80\u001b[0m, in \u001b[0;36mCollection.add\u001b[0;34m(self, ids, embeddings, metadatas, documents, images, uris)\u001b[0m\n\u001b[1;32m     40\u001b[0m \u001b[38;5;28;01mdef\u001b[39;00m \u001b[38;5;21madd\u001b[39m(\n\u001b[1;32m     41\u001b[0m     \u001b[38;5;28mself\u001b[39m,\n\u001b[1;32m     42\u001b[0m     ids: OneOrMany[ID],\n\u001b[0;32m   (...)\u001b[0m\n\u001b[1;32m     52\u001b[0m     uris: Optional[OneOrMany[URI]] \u001b[38;5;241m=\u001b[39m \u001b[38;5;28;01mNone\u001b[39;00m,\n\u001b[1;32m     53\u001b[0m ) \u001b[38;5;241m-\u001b[39m\u001b[38;5;241m>\u001b[39m \u001b[38;5;28;01mNone\u001b[39;00m:\n\u001b[1;32m     54\u001b[0m \u001b[38;5;250m    \u001b[39m\u001b[38;5;124;03m\"\"\"Add embeddings to the data store.\u001b[39;00m\n\u001b[1;32m     55\u001b[0m \u001b[38;5;124;03m    Args:\u001b[39;00m\n\u001b[1;32m     56\u001b[0m \u001b[38;5;124;03m        ids: The ids of the embeddings you wish to add\u001b[39;00m\n\u001b[0;32m   (...)\u001b[0m\n\u001b[1;32m     72\u001b[0m \n\u001b[1;32m     73\u001b[0m \u001b[38;5;124;03m    \"\"\"\u001b[39;00m\n\u001b[1;32m     74\u001b[0m     (\n\u001b[1;32m     75\u001b[0m         ids,\n\u001b[1;32m     76\u001b[0m         embeddings,\n\u001b[1;32m     77\u001b[0m         metadatas,\n\u001b[1;32m     78\u001b[0m         documents,\n\u001b[1;32m     79\u001b[0m         uris,\n\u001b[0;32m---> 80\u001b[0m     ) \u001b[38;5;241m=\u001b[39m \u001b[38;5;28;43mself\u001b[39;49m\u001b[38;5;241;43m.\u001b[39;49m\u001b[43m_validate_and_prepare_embedding_set\u001b[49m\u001b[43m(\u001b[49m\n\u001b[1;32m     81\u001b[0m \u001b[43m        \u001b[49m\u001b[43mids\u001b[49m\u001b[43m,\u001b[49m\u001b[43m \u001b[49m\u001b[43membeddings\u001b[49m\u001b[43m,\u001b[49m\u001b[43m \u001b[49m\u001b[43mmetadatas\u001b[49m\u001b[43m,\u001b[49m\u001b[43m \u001b[49m\u001b[43mdocuments\u001b[49m\u001b[43m,\u001b[49m\u001b[43m \u001b[49m\u001b[43mimages\u001b[49m\u001b[43m,\u001b[49m\u001b[43m \u001b[49m\u001b[43muris\u001b[49m\n\u001b[1;32m     82\u001b[0m \u001b[43m    \u001b[49m\u001b[43m)\u001b[49m\n\u001b[1;32m     84\u001b[0m     \u001b[38;5;28mself\u001b[39m\u001b[38;5;241m.\u001b[39m_client\u001b[38;5;241m.\u001b[39m_add(ids, \u001b[38;5;28mself\u001b[39m\u001b[38;5;241m.\u001b[39mid, embeddings, metadatas, documents, uris)\n",
      "File \u001b[0;32m/usr/local/lib/python3.10/dist-packages/chromadb/api/models/CollectionCommon.py:269\u001b[0m, in \u001b[0;36mCollectionCommon._validate_and_prepare_embedding_set\u001b[0;34m(self, ids, embeddings, metadatas, documents, images, uris)\u001b[0m\n\u001b[1;32m    266\u001b[0m \u001b[38;5;28;01mif\u001b[39;00m embeddings \u001b[38;5;129;01mis\u001b[39;00m \u001b[38;5;28;01mNone\u001b[39;00m:\n\u001b[1;32m    267\u001b[0m     \u001b[38;5;66;03m# At this point, we know that one of documents or images are provided from the validation above\u001b[39;00m\n\u001b[1;32m    268\u001b[0m     \u001b[38;5;28;01mif\u001b[39;00m documents \u001b[38;5;129;01mis\u001b[39;00m \u001b[38;5;129;01mnot\u001b[39;00m \u001b[38;5;28;01mNone\u001b[39;00m:\n\u001b[0;32m--> 269\u001b[0m         embeddings \u001b[38;5;241m=\u001b[39m \u001b[38;5;28;43mself\u001b[39;49m\u001b[38;5;241;43m.\u001b[39;49m\u001b[43m_embed\u001b[49m\u001b[43m(\u001b[49m\u001b[38;5;28;43minput\u001b[39;49m\u001b[38;5;241;43m=\u001b[39;49m\u001b[43mdocuments\u001b[49m\u001b[43m)\u001b[49m\n\u001b[1;32m    270\u001b[0m     \u001b[38;5;28;01melif\u001b[39;00m images \u001b[38;5;129;01mis\u001b[39;00m \u001b[38;5;129;01mnot\u001b[39;00m \u001b[38;5;28;01mNone\u001b[39;00m:\n\u001b[1;32m    271\u001b[0m         embeddings \u001b[38;5;241m=\u001b[39m \u001b[38;5;28mself\u001b[39m\u001b[38;5;241m.\u001b[39m_embed(\u001b[38;5;28minput\u001b[39m\u001b[38;5;241m=\u001b[39mimages)\n",
      "File \u001b[0;32m/usr/local/lib/python3.10/dist-packages/chromadb/api/models/CollectionCommon.py:558\u001b[0m, in \u001b[0;36mCollectionCommon._embed\u001b[0;34m(self, input)\u001b[0m\n\u001b[1;32m    553\u001b[0m \u001b[38;5;28;01mif\u001b[39;00m \u001b[38;5;28mself\u001b[39m\u001b[38;5;241m.\u001b[39m_embedding_function \u001b[38;5;129;01mis\u001b[39;00m \u001b[38;5;28;01mNone\u001b[39;00m:\n\u001b[1;32m    554\u001b[0m     \u001b[38;5;28;01mraise\u001b[39;00m \u001b[38;5;167;01mValueError\u001b[39;00m(\n\u001b[1;32m    555\u001b[0m         \u001b[38;5;124m\"\u001b[39m\u001b[38;5;124mYou must provide an embedding function to compute embeddings.\u001b[39m\u001b[38;5;124m\"\u001b[39m\n\u001b[1;32m    556\u001b[0m         \u001b[38;5;124m\"\u001b[39m\u001b[38;5;124mhttps://docs.trychroma.com/guides/embeddings\u001b[39m\u001b[38;5;124m\"\u001b[39m\n\u001b[1;32m    557\u001b[0m     )\n\u001b[0;32m--> 558\u001b[0m \u001b[38;5;28;01mreturn\u001b[39;00m \u001b[38;5;28;43mself\u001b[39;49m\u001b[38;5;241;43m.\u001b[39;49m\u001b[43m_embedding_function\u001b[49m\u001b[43m(\u001b[49m\u001b[38;5;28;43minput\u001b[39;49m\u001b[38;5;241;43m=\u001b[39;49m\u001b[38;5;28;43minput\u001b[39;49m\u001b[43m)\u001b[49m\n",
      "File \u001b[0;32m/usr/local/lib/python3.10/dist-packages/chromadb/api/types.py:197\u001b[0m, in \u001b[0;36mEmbeddingFunction.__init_subclass__.<locals>.__call__\u001b[0;34m(self, input)\u001b[0m\n\u001b[1;32m    196\u001b[0m \u001b[38;5;28;01mdef\u001b[39;00m \u001b[38;5;21m__call__\u001b[39m(\u001b[38;5;28mself\u001b[39m: EmbeddingFunction[D], \u001b[38;5;28minput\u001b[39m: D) \u001b[38;5;241m-\u001b[39m\u001b[38;5;241m>\u001b[39m Embeddings:\n\u001b[0;32m--> 197\u001b[0m     result \u001b[38;5;241m=\u001b[39m \u001b[43mcall\u001b[49m\u001b[43m(\u001b[49m\u001b[38;5;28;43mself\u001b[39;49m\u001b[43m,\u001b[49m\u001b[43m \u001b[49m\u001b[38;5;28;43minput\u001b[39;49m\u001b[43m)\u001b[49m\n\u001b[1;32m    198\u001b[0m     \u001b[38;5;28;01mreturn\u001b[39;00m validate_embeddings(maybe_cast_one_to_many_embedding(result))\n",
      "Cell \u001b[0;32mIn[17], line 28\u001b[0m, in \u001b[0;36mTransformerEmbeddingFunction_SFR.__call__\u001b[0;34m(self, input)\u001b[0m\n\u001b[1;32m     26\u001b[0m \u001b[38;5;28;01mdef\u001b[39;00m \u001b[38;5;21m__call__\u001b[39m(\u001b[38;5;28mself\u001b[39m, \u001b[38;5;28minput\u001b[39m: Documents) \u001b[38;5;241m-\u001b[39m\u001b[38;5;241m>\u001b[39m Embeddings:\n\u001b[0;32m---> 28\u001b[0m     \u001b[38;5;28;01mreturn\u001b[39;00m \u001b[43msfr_model_inference\u001b[49m\u001b[43m(\u001b[49m\u001b[43mtext\u001b[49m\u001b[38;5;241;43m=\u001b[39;49m\u001b[38;5;28;43minput\u001b[39;49m\u001b[43m)\u001b[49m\u001b[38;5;241m.\u001b[39mtolist()\n",
      "Cell \u001b[0;32mIn[14], line 66\u001b[0m, in \u001b[0;36msfr_model_inference\u001b[0;34m(text, dataset)\u001b[0m\n\u001b[1;32m     64\u001b[0m     \u001b[38;5;28;01mdel\u001b[39;00m embedding\n\u001b[1;32m     65\u001b[0m     torch\u001b[38;5;241m.\u001b[39mcuda\u001b[38;5;241m.\u001b[39mempty_cache()\n\u001b[0;32m---> 66\u001b[0m     \u001b[38;5;28;01mraise\u001b[39;00m torch\u001b[38;5;241m.\u001b[39mcuda\u001b[38;5;241m.\u001b[39mOutOfMemoryError\n\u001b[1;32m     67\u001b[0m \u001b[38;5;28;01mdel\u001b[39;00m embedding\n\u001b[1;32m     68\u001b[0m \u001b[38;5;28;01mdel\u001b[39;00m batch_dict\n",
      "\u001b[0;31mOutOfMemoryError\u001b[0m: "
     ]
    }
   ],
   "source": [
    "import chromadb\n",
    "import time\n",
    "\n",
    "metrics[model_name] = {\"active\":{},\"vote\":{},\"hot\":{}}\n",
    "\n",
    "client = chromadb.Client()\n",
    "\n",
    "collection_vote = client.create_collection(\"seach_db_vote\",get_or_create=False,embedding_function=model_embed)\n",
    "collection_active = client.create_collection(\"seach_db_active\",get_or_create=False,embedding_function=model_embed)\n",
    "collection_hot = client.create_collection(\"seach_db_hot\",get_or_create=False,embedding_function=model_embed)\n",
    "# collection = client.create_collection(\"test_seach_fb\",embedding_function,get_or_create=True)\n",
    "\n",
    "# load\n",
    "load_time = time.time()\n",
    "collection_vote.add(\n",
    "    documents=list(data_vote['text']),\n",
    "    ids=[str(i) for i in data_vote['id']]\n",
    ")\n",
    "load_time = time.time() - load_time\n",
    "metrics[model_name]['vote']['load_time'] = load_time\n",
    "\n",
    "load_time = time.time()\n",
    "collection_active.add(\n",
    "    documents=list(data_active['text']),\n",
    "    ids=[str(i) for i in data_active['id']]\n",
    ")\n",
    "load_time = time.time() - load_time\n",
    "metrics[model_name]['active']['load_time'] = load_time\n",
    "\n",
    "load_time = time.time()\n",
    "collection_hot.add(\n",
    "    documents=list(data_hot['text']),\n",
    "    ids=[str(i) for i in data_hot['id']]\n",
    ")\n",
    "load_time = time.time() - load_time\n",
    "metrics[model_name]['hot']['load_time'] = load_time"
   ]
  },
  {
   "cell_type": "code",
   "execution_count": null,
   "id": "1b7d8523-22d6-4148-8c90-cfc768afcd29",
   "metadata": {
    "scrolled": true
   },
   "outputs": [],
   "source": [
    "search_time = time.time()\n",
    "queries = list(search_data_index_vote['query name'].unique())\n",
    "queries = model_embed.preprocess_query(queries)\n",
    "results_vote = collection_vote.query(\n",
    "    query_texts=queries, # Chroma will embed this for you\n",
    "    n_results=40 # how many results to return\n",
    ")\n",
    "search_time = time.time() - search_time\n",
    "metrics[model_name]['vote']['search_time'] = search_time\n",
    "\n",
    "search_time = time.time()\n",
    "queries = list(search_data_index_hot['query name'].unique())\n",
    "queries = model_embed.preprocess_query(queries)\n",
    "results_hot = collection_hot.query(\n",
    "    query_texts=queries, # Chroma will embed this for you\n",
    "    n_results=40 # how many results to return\n",
    ")\n",
    "search_time = time.time() - search_time\n",
    "metrics[model_name]['hot']['search_time'] = search_time\n",
    "\n",
    "search_time = time.time()\n",
    "queries = list(search_data_index_active['query name'].unique())\n",
    "queries = model_embed.preprocess_query(queries)\n",
    "results_active = collection_active.query(\n",
    "    query_texts=queries, # Chroma will embed this for you\n",
    "    n_results=40 # how many results to return\n",
    ")\n",
    "search_time = time.time() - search_time\n",
    "metrics[model_name]['active']['search_time'] = search_time\n",
    "\n",
    "client.delete_collection(\"seach_db_vote\")\n",
    "client.delete_collection(\"seach_db_active\")\n",
    "client.delete_collection(\"seach_db_hot\")"
   ]
  },
  {
   "cell_type": "markdown",
   "id": "07f77150-cabb-46f3-a3c7-051dd053fd99",
   "metadata": {},
   "source": [
    "## Evaluation\n",
    "\n",
    "Evaluation\n",
    "https://www.cs.cmu.edu/~ytsvetko/papers/qvec.pdf"
   ]
  }
 ],
 "metadata": {
  "kernelspec": {
   "display_name": "Python 3 (ipykernel)",
   "language": "python",
   "name": "python3"
  },
  "language_info": {
   "codemirror_mode": {
    "name": "ipython",
    "version": 3
   },
   "file_extension": ".py",
   "mimetype": "text/x-python",
   "name": "python",
   "nbconvert_exporter": "python",
   "pygments_lexer": "ipython3",
   "version": "3.10.13"
  }
 },
 "nbformat": 4,
 "nbformat_minor": 5
}
